{
 "cells": [
  {
   "cell_type": "markdown",
   "metadata": {},
   "source": [
    "### use autoencoder generate MNIST dataset "
   ]
  },
  {
   "cell_type": "code",
   "execution_count": 1,
   "metadata": {
    "collapsed": true
   },
   "outputs": [],
   "source": [
    "__author__ = 'SherlockLiao'"
   ]
  },
  {
   "cell_type": "markdown",
   "metadata": {},
   "source": [
    "### import necessary package"
   ]
  },
  {
   "cell_type": "code",
   "execution_count": 20,
   "metadata": {
    "collapsed": true
   },
   "outputs": [],
   "source": [
    "import torch\n",
    "import torchvision\n",
    "from torch import nn\n",
    "from torch.autograd import Variable\n",
    "from torch.utils.data import DataLoader\n",
    "from torchvision import transforms\n",
    "from torchvision.utils import save_image\n",
    "from torchvision.datasets import MNIST\n",
    "import os\n",
    "import matplotlib.pyplot as plt\n",
    "from matplotlib import cm\n",
    "from mpl_toolkits.mplot3d import Axes3D\n",
    "%matplotlib inline"
   ]
  },
  {
   "cell_type": "markdown",
   "metadata": {},
   "source": [
    "### define function to transfer tensor to Variable or cuda.Variable"
   ]
  },
  {
   "cell_type": "code",
   "execution_count": 8,
   "metadata": {
    "collapsed": true
   },
   "outputs": [],
   "source": [
    "def to_var(x):\n",
    "    x = Variable(x)\n",
    "    if torch.cuda.is_available():\n",
    "        return x.cuda()\n",
    "    else:\n",
    "        return x"
   ]
  },
  {
   "cell_type": "markdown",
   "metadata": {},
   "source": [
    "### define function to transfer tensor to a image"
   ]
  },
  {
   "cell_type": "code",
   "execution_count": 9,
   "metadata": {
    "collapsed": true
   },
   "outputs": [],
   "source": [
    "def to_img(x):\n",
    "    x = 0.5 * (x + 1)\n",
    "    x = x.clamp(0, 1)\n",
    "    x = x.view(x.size(0), 1, 28, 28)\n",
    "    return x"
   ]
  },
  {
   "cell_type": "markdown",
   "metadata": {},
   "source": [
    "### define hyperparameters"
   ]
  },
  {
   "cell_type": "code",
   "execution_count": 10,
   "metadata": {
    "collapsed": true
   },
   "outputs": [],
   "source": [
    "num_epochs = 70\n",
    "batch_size = 128\n",
    "learning_rate = 1e-3"
   ]
  },
  {
   "cell_type": "markdown",
   "metadata": {},
   "source": [
    "### defein image dataset and image transforms"
   ]
  },
  {
   "cell_type": "code",
   "execution_count": 11,
   "metadata": {
    "collapsed": false
   },
   "outputs": [],
   "source": [
    "img_transform = transforms.Compose([\n",
    "    transforms.ToTensor(),\n",
    "    transforms.Normalize((0.5, 0.5, 0.5), (0.5, 0.5, 0.5))\n",
    "])\n",
    "\n",
    "dataset = MNIST('./data', transform=img_transform)\n",
    "dataloader = DataLoader(dataset, batch_size=batch_size, shuffle=True)"
   ]
  },
  {
   "cell_type": "markdown",
   "metadata": {},
   "source": [
    "### define MLP autoencoder"
   ]
  },
  {
   "cell_type": "code",
   "execution_count": 12,
   "metadata": {
    "collapsed": true
   },
   "outputs": [],
   "source": [
    "class MLPencoder(nn.Module):\n",
    "    def __init__(self):\n",
    "        super(MLPencoder, self).__init__()\n",
    "        self.fc = nn.Sequential(\n",
    "            nn.Linear(28*28, 128),\n",
    "            nn.ReLU(True),\n",
    "            nn.Linear(128, 64),\n",
    "            nn.ReLU(True),\n",
    "            nn.Linear(64, 12),\n",
    "            nn.ReLU(True),\n",
    "            nn.Linear(12, 3)\n",
    "        )\n",
    "\n",
    "    def forward(self, x):\n",
    "        x = self.fc(x)\n",
    "        return x"
   ]
  },
  {
   "cell_type": "code",
   "execution_count": 13,
   "metadata": {
    "collapsed": true
   },
   "outputs": [],
   "source": [
    "class MLPdecoder(nn.Module):\n",
    "    def __init__(self):\n",
    "        super(MLPdecoder, self).__init__()\n",
    "        self.fc = nn.Sequential(\n",
    "            nn.Linear(3, 12),\n",
    "            nn.ReLU(True),\n",
    "            nn.Linear(12, 64),\n",
    "            nn.ReLU(True),\n",
    "            nn.Linear(64, 128),\n",
    "            nn.ReLU(True),\n",
    "            nn.Linear(128, 28*28),\n",
    "            nn.Tanh()\n",
    "        )\n",
    "\n",
    "    def forward(self, x):\n",
    "        x = self.fc(x)\n",
    "        return x"
   ]
  },
  {
   "cell_type": "code",
   "execution_count": 14,
   "metadata": {
    "collapsed": false
   },
   "outputs": [],
   "source": [
    "if torch.cuda.is_available():\n",
    "    en_model = MLPencoder().cuda()\n",
    "    de_model = MLPdecoder().cuda()\n",
    "else:\n",
    "    en_model = MLPencoder()\n",
    "    de_model = MLPdecoder()"
   ]
  },
  {
   "cell_type": "markdown",
   "metadata": {},
   "source": [
    "### define loss and optimizer"
   ]
  },
  {
   "cell_type": "code",
   "execution_count": 15,
   "metadata": {
    "collapsed": false
   },
   "outputs": [],
   "source": [
    "parm = list(en_model.parameters()) + list(de_model.parameters())\n",
    "criterion = nn.MSELoss()\n",
    "optimizer = torch.optim.Adam(parm, lr=learning_rate)"
   ]
  },
  {
   "cell_type": "markdown",
   "metadata": {},
   "source": [
    "### train mlp autoencoder"
   ]
  },
  {
   "cell_type": "code",
   "execution_count": 16,
   "metadata": {
    "collapsed": false,
    "scrolled": true
   },
   "outputs": [
    {
     "name": "stdout",
     "output_type": "stream",
     "text": [
      "epoch [1/70], loss:0.1817\n",
      "epoch [2/70], loss:0.1701\n",
      "epoch [3/70], loss:0.1646\n",
      "epoch [4/70], loss:0.1482\n",
      "epoch [5/70], loss:0.1445\n",
      "epoch [6/70], loss:0.1341\n",
      "epoch [7/70], loss:0.1483\n",
      "epoch [8/70], loss:0.1507\n",
      "epoch [9/70], loss:0.1450\n",
      "epoch [10/70], loss:0.1412\n",
      "epoch [11/70], loss:0.1401\n",
      "epoch [12/70], loss:0.1296\n",
      "epoch [13/70], loss:0.1394\n",
      "epoch [14/70], loss:0.1263\n",
      "epoch [15/70], loss:0.1298\n",
      "epoch [16/70], loss:0.1295\n",
      "epoch [17/70], loss:0.1283\n",
      "epoch [18/70], loss:0.1291\n",
      "epoch [19/70], loss:0.1260\n",
      "epoch [20/70], loss:0.1171\n",
      "epoch [21/70], loss:0.1296\n",
      "epoch [22/70], loss:0.1273\n",
      "epoch [23/70], loss:0.1258\n",
      "epoch [24/70], loss:0.1167\n",
      "epoch [25/70], loss:0.1364\n",
      "epoch [26/70], loss:0.1251\n",
      "epoch [27/70], loss:0.1305\n",
      "epoch [28/70], loss:0.1186\n",
      "epoch [29/70], loss:0.1150\n",
      "epoch [30/70], loss:0.1249\n",
      "epoch [31/70], loss:0.1184\n",
      "epoch [32/70], loss:0.1225\n",
      "epoch [33/70], loss:0.1244\n",
      "epoch [34/70], loss:0.1202\n",
      "epoch [35/70], loss:0.1259\n",
      "epoch [36/70], loss:0.1144\n",
      "epoch [37/70], loss:0.1354\n",
      "epoch [38/70], loss:0.1391\n",
      "epoch [39/70], loss:0.1261\n",
      "epoch [40/70], loss:0.1247\n",
      "epoch [41/70], loss:0.1238\n",
      "epoch [42/70], loss:0.1194\n",
      "epoch [43/70], loss:0.1234\n",
      "epoch [44/70], loss:0.1371\n",
      "epoch [45/70], loss:0.1169\n",
      "epoch [46/70], loss:0.1223\n",
      "epoch [47/70], loss:0.1212\n",
      "epoch [48/70], loss:0.1296\n",
      "epoch [49/70], loss:0.1150\n",
      "epoch [50/70], loss:0.1311\n",
      "epoch [51/70], loss:0.1136\n",
      "epoch [52/70], loss:0.1124\n",
      "epoch [53/70], loss:0.1117\n",
      "epoch [54/70], loss:0.1121\n",
      "epoch [55/70], loss:0.1275\n",
      "epoch [56/70], loss:0.1307\n",
      "epoch [57/70], loss:0.1254\n",
      "epoch [58/70], loss:0.1182\n",
      "epoch [59/70], loss:0.1087\n",
      "epoch [60/70], loss:0.1328\n",
      "epoch [61/70], loss:0.1227\n",
      "epoch [62/70], loss:0.1263\n",
      "epoch [63/70], loss:0.1180\n",
      "epoch [64/70], loss:0.1242\n",
      "epoch [65/70], loss:0.1209\n",
      "epoch [66/70], loss:0.1249\n",
      "epoch [67/70], loss:0.1204\n",
      "epoch [68/70], loss:0.1211\n",
      "epoch [69/70], loss:0.1230\n",
      "epoch [70/70], loss:0.1198\n"
     ]
    }
   ],
   "source": [
    "for epoch in range(num_epochs):\n",
    "    for data in dataloader:\n",
    "        img, _ = data\n",
    "        num_img = img.size(0)\n",
    "        img = img.view(num_img, -1)\n",
    "        img = to_var(img)\n",
    "        # ===================forward=====================\n",
    "        code = en_model(img)\n",
    "        output = de_model(code)\n",
    "        loss = criterion(output, img)\n",
    "        # ===================backward====================\n",
    "        optimizer.zero_grad()\n",
    "        loss.backward()\n",
    "        optimizer.step()\n",
    "    # ===================log========================\n",
    "    print('epoch [{}/{}], loss:{:.4f}'\n",
    "          .format(epoch+1, num_epochs, loss.data[0]))\n",
    "    if epoch % 20 == 0:\n",
    "        pic = to_img(output.cpu().data)\n",
    "        save_image(pic, './img/image_{}.png'.format(epoch))"
   ]
  },
  {
   "cell_type": "markdown",
   "metadata": {},
   "source": [
    "### save model"
   ]
  },
  {
   "cell_type": "code",
   "execution_count": 17,
   "metadata": {
    "collapsed": true
   },
   "outputs": [],
   "source": [
    "torch.save(en_model.state_dict(), './encoder.pth')\n",
    "torch.save(de_model.state_dict(), './decoder.pth')"
   ]
  },
  {
   "cell_type": "markdown",
   "metadata": {},
   "source": [
    "### load model"
   ]
  },
  {
   "cell_type": "code",
   "execution_count": 18,
   "metadata": {
    "collapsed": false
   },
   "outputs": [],
   "source": [
    "en_model.load_state_dict(torch.load('./encoder.pth'))\n",
    "de_model.load_state_dict(torch.load('./decoder.pth'))"
   ]
  },
  {
   "cell_type": "code",
   "execution_count": 21,
   "metadata": {
    "collapsed": false
   },
   "outputs": [
    {
     "data": {
      "image/png": "[encoded data removed]",
      "text/plain": [
       "<matplotlib.figure.Figure at 0x7f2e6284feb8>"
      ]
     },
     "metadata": {},
     "output_type": "display_data"
    }
   ],
   "source": [
    "view_data = Variable(dataset.train_data[:200].view(-1, 28*28).type(torch.FloatTensor)/255).cuda()\n",
    "code = en_model(view_data)\n",
    "code = code.cpu()\n",
    "fig = plt.figure(2)\n",
    "ax = Axes3D(fig)    # 3D 图\n",
    "# x, y, z 的数据值\n",
    "X = code.data[:, 0].numpy()\n",
    "Y = code.data[:, 1].numpy()\n",
    "Z = code.data[:, 2].numpy()\n",
    "values = dataset.train_labels[:200].numpy()  # 标签值\n",
    "for x, y, z, s in zip(X, Y, Z, values):\n",
    "    c = cm.rainbow(int(255*s/9))    # 上色\n",
    "    ax.text(x, y, z, s, backgroundcolor=c)  # 标位子\n",
    "ax.set_xlim(X.min(), X.max())\n",
    "ax.set_ylim(Y.min(), Y.max())\n",
    "ax.set_zlim(Z.min(), Z.max())\n",
    "plt.show()"
   ]
  },
  {
   "cell_type": "markdown",
   "metadata": {},
   "source": [
    "### given a random code to generate image"
   ]
  },
  {
   "cell_type": "code",
   "execution_count": null,
   "metadata": {
    "collapsed": false
   },
   "outputs": [],
   "source": [
    "code = to_var(torch.Tensor([4, 2.3, -0.4]))\n",
    "code = code.unsqueeze(0)\n",
    "out = de_model(code)\n",
    "img = to_img(out)\n",
    "a = transforms.ToPILImage()(img.cpu().data.squeeze(0))\n",
    "a.resize((100, 100))"
   ]
  },
  {
   "cell_type": "markdown",
   "metadata": {
    "collapsed": true
   },
   "source": [
    "### define deep convolution autoencoder"
   ]
  },
  {
   "cell_type": "code",
   "execution_count": null,
   "metadata": {
    "collapsed": true
   },
   "outputs": [],
   "source": [
    "class DCautoencoder(nn.Module):\n",
    "    def __init__(self):\n",
    "        super(DCautoencoder, self).__init__()\n",
    "        self.encoder = nn.Sequential(\n",
    "            nn.Conv2d(1, 16, 3, stride=3, padding=1),  # b, 16, 10, 10\n",
    "            nn.ReLU(True),\n",
    "            nn.MaxPool2d(2, stride=2),  # b, 16, 5, 5\n",
    "            nn.Conv2d(16, 8, 3, stride=2, padding=1),  # b, 8, 3, 3\n",
    "            nn.ReLU(True),\n",
    "            nn.MaxPool2d(2, stride=1)  # b, 8, 2, 2\n",
    "        )\n",
    "        self.decoder = nn.Sequential(\n",
    "            nn.ConvTranspose2d(8, 16, 3, stride=2),  # b, 16, 5, 5\n",
    "            nn.ReLU(True),\n",
    "            nn.ConvTranspose2d(16, 8, 5, stride=3, padding=1),  # b, 8, 15, 15\n",
    "            nn.ReLU(True),\n",
    "            nn.ConvTranspose2d(8, 1, 2, stride=2, padding=1),  # b, 1, 28, 28\n",
    "            nn.Tanh()\n",
    "        )\n",
    "\n",
    "    def forward(self, x):\n",
    "        x = self.encoder(x)\n",
    "        x = self.decoder(x)\n",
    "        return x"
   ]
  },
  {
   "cell_type": "code",
   "execution_count": null,
   "metadata": {
    "collapsed": true
   },
   "outputs": [],
   "source": [
    "if torch.cuda.is_available():\n",
    "    dc_autoencoder = DCautoencoder().cuda()\n",
    "else:\n",
    "    dc_autoencoder = DCautoencoder()"
   ]
  },
  {
   "cell_type": "markdown",
   "metadata": {},
   "source": [
    "### define loss and optimizer"
   ]
  },
  {
   "cell_type": "code",
   "execution_count": null,
   "metadata": {
    "collapsed": true
   },
   "outputs": [],
   "source": [
    "criterion = nn.MSELoss()\n",
    "optimizer = torch.optim.Adam(dc_autoencoder.parameters(), lr=learning_rate)"
   ]
  },
  {
   "cell_type": "code",
   "execution_count": null,
   "metadata": {
    "collapsed": false,
    "scrolled": true
   },
   "outputs": [],
   "source": [
    "for epoch in range(num_epochs):\n",
    "    for data in dataloader:\n",
    "        img, _ = data\n",
    "        img = to_var(img)\n",
    "        # ===================forward=====================\n",
    "        output = dc_autoencoder(img)\n",
    "        loss = criterion(output, img)\n",
    "        # ===================backward====================\n",
    "        optimizer.zero_grad()\n",
    "        loss.backward()\n",
    "        optimizer.step()\n",
    "    # ===================log========================\n",
    "    print('epoch [{}/{}], loss:{:.4f}'\n",
    "          .format(epoch+1, num_epochs, loss.data[0]))\n",
    "    if epoch % 20 == 0:\n",
    "        pic = to_img(output.cpu().data)\n",
    "        save_image(pic, './img/image_{}.png'.format(epoch))"
   ]
  },
  {
   "cell_type": "markdown",
   "metadata": {},
   "source": [
    "### save model"
   ]
  },
  {
   "cell_type": "code",
   "execution_count": null,
   "metadata": {
    "collapsed": true
   },
   "outputs": [],
   "source": [
    "torch.save(dc_autoencoder.state_dict(), './dc_autoencoder.pth')"
   ]
  }
 ],
 "metadata": {
  "anaconda-cloud": {},
  "kernelspec": {
   "display_name": "Python [conda env:pytorch]",
   "language": "python",
   "name": "conda-env-pytorch-py"
  },
  "language_info": {
   "codemirror_mode": {
    "name": "ipython",
    "version": 3
   },
   "file_extension": ".py",
   "mimetype": "text/x-python",
   "name": "python",
   "nbconvert_exporter": "python",
   "pygments_lexer": "ipython3",
   "version": "3.6.1"
  }
 },
 "nbformat": 4,
 "nbformat_minor": 1
}
