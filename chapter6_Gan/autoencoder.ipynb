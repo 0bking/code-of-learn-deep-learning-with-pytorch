{
 "cells": [
  {
   "cell_type": "markdown",
   "metadata": {},
   "source": [
    "### use autoencoder generate MNIST dataset "
   ]
  },
  {
   "cell_type": "code",
   "execution_count": 1,
   "metadata": {
    "collapsed": true
   },
   "outputs": [],
   "source": [
    "__author__ = 'SherlockLiao'"
   ]
  },
  {
   "cell_type": "markdown",
   "metadata": {},
   "source": [
    "### import necessary package"
   ]
  },
  {
   "cell_type": "code",
   "execution_count": 2,
   "metadata": {
    "collapsed": true
   },
   "outputs": [],
   "source": [
    "import torch\n",
    "import torchvision\n",
    "from torch import nn\n",
    "from torch.autograd import Variable\n",
    "from torch.utils.data import DataLoader\n",
    "from torchvision import transforms\n",
    "from torchvision.utils import save_image\n",
    "from torchvision.datasets import MNIST"
   ]
  },
  {
   "cell_type": "markdown",
   "metadata": {},
   "source": [
    "### define function to transfer tensor to Variable or cuda.Variable"
   ]
  },
  {
   "cell_type": "code",
   "execution_count": 3,
   "metadata": {
    "collapsed": true
   },
   "outputs": [],
   "source": [
    "def to_var(x):\n",
    "    x = Variable(x)\n",
    "    if torch.cuda.is_available():\n",
    "        return x.cuda()\n",
    "    else:\n",
    "        return x"
   ]
  },
  {
   "cell_type": "markdown",
   "metadata": {},
   "source": [
    "### define function to transfer tensor to a image"
   ]
  },
  {
   "cell_type": "code",
   "execution_count": 4,
   "metadata": {
    "collapsed": true
   },
   "outputs": [],
   "source": [
    "def to_img(x):\n",
    "    x = 0.5 * (x + 1)\n",
    "    x = x.clamp(0, 1)\n",
    "    x = x.view(x.size(0), 1, 28, 28)\n",
    "    return x"
   ]
  },
  {
   "cell_type": "markdown",
   "metadata": {},
   "source": [
    "### define hyperparameters"
   ]
  },
  {
   "cell_type": "code",
   "execution_count": 5,
   "metadata": {
    "collapsed": true
   },
   "outputs": [],
   "source": [
    "num_epochs = 70\n",
    "batch_size = 128\n",
    "learning_rate = 1e-3"
   ]
  },
  {
   "cell_type": "markdown",
   "metadata": {},
   "source": [
    "### defein image dataset and image transforms"
   ]
  },
  {
   "cell_type": "code",
   "execution_count": 6,
   "metadata": {
    "collapsed": true
   },
   "outputs": [],
   "source": [
    "img_transform = transforms.Compose([\n",
    "    transforms.ToTensor(),\n",
    "    transforms.Normalize((0.5, 0.5, 0.5), (0.5, 0.5, 0.5))\n",
    "])\n",
    "\n",
    "dataset = MNIST('./data', transform=img_transform)\n",
    "dataloader = DataLoader(dataset, batch_size=batch_size, shuffle=True)"
   ]
  },
  {
   "cell_type": "markdown",
   "metadata": {},
   "source": [
    "### define MLP autoencoder"
   ]
  },
  {
   "cell_type": "code",
   "execution_count": 7,
   "metadata": {
    "collapsed": true
   },
   "outputs": [],
   "source": [
    "class encoder(nn.Module):\n",
    "    def __init__(self):\n",
    "        super(encoder, self).__init__()\n",
    "        self.fc = nn.Sequential(\n",
    "            nn.Linear(28*28, 128),\n",
    "            nn.ReLU(True),\n",
    "            nn.Linear(128, 64),\n",
    "            nn.ReLU(True),\n",
    "            nn.Linear(64, 12),\n",
    "            nn.ReLU(True),\n",
    "            nn.Linear(12, 3)\n",
    "        )\n",
    "\n",
    "    def forward(self, x):\n",
    "        x = self.fc(x)\n",
    "        return x"
   ]
  },
  {
   "cell_type": "code",
   "execution_count": 8,
   "metadata": {
    "collapsed": true
   },
   "outputs": [],
   "source": [
    "class decoder(nn.Module):\n",
    "    def __init__(self):\n",
    "        super(decoder, self).__init__()\n",
    "        self.fc = nn.Sequential(\n",
    "            nn.Linear(3, 12),\n",
    "            nn.ReLU(True),\n",
    "            nn.Linear(12, 64),\n",
    "            nn.ReLU(True),\n",
    "            nn.Linear(64, 128),\n",
    "            nn.ReLU(True),\n",
    "            nn.Linear(128, 28*28),\n",
    "            nn.Tanh()\n",
    "        )\n",
    "\n",
    "    def forward(self, x):\n",
    "        x = self.fc(x)\n",
    "        return x"
   ]
  },
  {
   "cell_type": "code",
   "execution_count": 9,
   "metadata": {
    "collapsed": false
   },
   "outputs": [],
   "source": [
    "if torch.cuda.is_available():\n",
    "    en_model = encoder().cuda()\n",
    "    de_model = decoder().cuda()\n",
    "else:\n",
    "    en_model = encoder()\n",
    "    de_model = decoder()"
   ]
  },
  {
   "cell_type": "markdown",
   "metadata": {},
   "source": [
    "### define loss and optimizer"
   ]
  },
  {
   "cell_type": "code",
   "execution_count": 10,
   "metadata": {
    "collapsed": false
   },
   "outputs": [],
   "source": [
    "parm = list(en_model.parameters()) + list(de_model.parameters())\n",
    "criterion = nn.MSELoss()\n",
    "optimizer = torch.optim.Adam(parm, lr=learning_rate)"
   ]
  },
  {
   "cell_type": "markdown",
   "metadata": {},
   "source": [
    "### train mlp autoencoder"
   ]
  },
  {
   "cell_type": "code",
   "execution_count": 11,
   "metadata": {
    "collapsed": false,
    "scrolled": true
   },
   "outputs": [
    {
     "name": "stdout",
     "output_type": "stream",
     "text": [
      "epoch [1/70], loss:0.1774\n",
      "epoch [2/70], loss:0.1581\n",
      "epoch [3/70], loss:0.1690\n",
      "epoch [4/70], loss:0.1515\n",
      "epoch [5/70], loss:0.1424\n",
      "epoch [6/70], loss:0.1459\n",
      "epoch [7/70], loss:0.1504\n",
      "epoch [8/70], loss:0.1511\n",
      "epoch [9/70], loss:0.1417\n",
      "epoch [10/70], loss:0.1455\n",
      "epoch [11/70], loss:0.1444\n",
      "epoch [12/70], loss:0.1350\n",
      "epoch [13/70], loss:0.1325\n",
      "epoch [14/70], loss:0.1325\n",
      "epoch [15/70], loss:0.1400\n",
      "epoch [16/70], loss:0.1417\n",
      "epoch [17/70], loss:0.1250\n",
      "epoch [18/70], loss:0.1424\n",
      "epoch [19/70], loss:0.1345\n",
      "epoch [20/70], loss:0.1310\n",
      "epoch [21/70], loss:0.1240\n",
      "epoch [22/70], loss:0.1330\n",
      "epoch [23/70], loss:0.1429\n",
      "epoch [24/70], loss:0.1364\n",
      "epoch [25/70], loss:0.1248\n",
      "epoch [26/70], loss:0.1267\n",
      "epoch [27/70], loss:0.1234\n",
      "epoch [28/70], loss:0.1297\n",
      "epoch [29/70], loss:0.1232\n",
      "epoch [30/70], loss:0.1256\n",
      "epoch [31/70], loss:0.1275\n",
      "epoch [32/70], loss:0.1329\n",
      "epoch [33/70], loss:0.1200\n",
      "epoch [34/70], loss:0.1269\n",
      "epoch [35/70], loss:0.1255\n",
      "epoch [36/70], loss:0.1164\n",
      "epoch [37/70], loss:0.1258\n",
      "epoch [38/70], loss:0.1158\n",
      "epoch [39/70], loss:0.1226\n",
      "epoch [40/70], loss:0.1280\n",
      "epoch [41/70], loss:0.1162\n",
      "epoch [42/70], loss:0.1205\n",
      "epoch [43/70], loss:0.1220\n",
      "epoch [44/70], loss:0.1277\n",
      "epoch [45/70], loss:0.1126\n",
      "epoch [46/70], loss:0.1185\n",
      "epoch [47/70], loss:0.1217\n",
      "epoch [48/70], loss:0.1355\n",
      "epoch [49/70], loss:0.1046\n",
      "epoch [50/70], loss:0.1247\n",
      "epoch [51/70], loss:0.1293\n",
      "epoch [52/70], loss:0.1246\n",
      "epoch [53/70], loss:0.1093\n",
      "epoch [54/70], loss:0.1250\n",
      "epoch [55/70], loss:0.1194\n",
      "epoch [56/70], loss:0.1250\n",
      "epoch [57/70], loss:0.1188\n",
      "epoch [58/70], loss:0.1223\n",
      "epoch [59/70], loss:0.1236\n",
      "epoch [60/70], loss:0.1145\n",
      "epoch [61/70], loss:0.1201\n",
      "epoch [62/70], loss:0.1119\n",
      "epoch [63/70], loss:0.1139\n",
      "epoch [64/70], loss:0.1168\n",
      "epoch [65/70], loss:0.1273\n",
      "epoch [66/70], loss:0.1228\n",
      "epoch [67/70], loss:0.1197\n",
      "epoch [68/70], loss:0.1130\n",
      "epoch [69/70], loss:0.1284\n",
      "epoch [70/70], loss:0.1230\n"
     ]
    }
   ],
   "source": [
    "for epoch in range(num_epochs):\n",
    "    for data in dataloader:\n",
    "        img, _ = data\n",
    "        num_img = img.size(0)\n",
    "        img = img.view(num_img, -1)\n",
    "        img = to_var(img)\n",
    "        # ===================forward=====================\n",
    "        code = en_model(img)\n",
    "        output = de_model(code)\n",
    "        loss = criterion(output, img)\n",
    "        # ===================backward====================\n",
    "        optimizer.zero_grad()\n",
    "        loss.backward()\n",
    "        optimizer.step()\n",
    "    # ===================log========================\n",
    "    print('epoch [{}/{}], loss:{:.4f}'\n",
    "          .format(epoch+1, num_epochs, loss.data[0]))\n",
    "    if epoch % 20 == 0:\n",
    "        pic = to_img(output.cpu().data)\n",
    "        save_image(pic, './img/image_{}.png'.format(epoch))"
   ]
  },
  {
   "cell_type": "markdown",
   "metadata": {},
   "source": [
    "### save model"
   ]
  },
  {
   "cell_type": "code",
   "execution_count": 115,
   "metadata": {
    "collapsed": true
   },
   "outputs": [],
   "source": [
    "torch.save(en_model.state_dict(), './encoder.pth')\n",
    "torch.save(de_model.state_dict(), './decoder.pth')"
   ]
  },
  {
   "cell_type": "markdown",
   "metadata": {},
   "source": [
    "### given a random code to generate img"
   ]
  },
  {
   "cell_type": "code",
   "execution_count": 114,
   "metadata": {
    "collapsed": false
   },
   "outputs": [
    {
     "data": {
      "image/png": "[encoded data removed]",
      "text/plain": [
       "<PIL.Image.Image image mode=L size=100x100 at 0x7F8AAC407B38>"
      ]
     },
     "execution_count": 114,
     "metadata": {},
     "output_type": "execute_result"
    }
   ],
   "source": [
    "code = to_var(torch.Tensor([8, 2.3, -0.4]))\n",
    "code = code.unsqueeze(0)\n",
    "\n",
    "out = de_model(code)\n",
    "\n",
    "img = to_img(out)\n",
    "\n",
    "import PIL\n",
    "\n",
    "a = torchvision.transforms.ToPILImage()(img.cpu().data.squeeze(0))\n",
    "\n",
    "a.resize((100, 100))"
   ]
  },
  {
   "cell_type": "code",
   "execution_count": null,
   "metadata": {
    "collapsed": true
   },
   "outputs": [],
   "source": []
  }
 ],
 "metadata": {
  "anaconda-cloud": {},
  "kernelspec": {
   "display_name": "Python [conda env:pytorch]",
   "language": "python",
   "name": "conda-env-pytorch-py"
  },
  "language_info": {
   "codemirror_mode": {
    "name": "ipython",
    "version": 3
   },
   "file_extension": ".py",
   "mimetype": "text/x-python",
   "name": "python",
   "nbconvert_exporter": "python",
   "pygments_lexer": "ipython3",
   "version": "3.6.1"
  }
 },
 "nbformat": 4,
 "nbformat_minor": 1
}
