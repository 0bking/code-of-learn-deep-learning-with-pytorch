{
 "cells": [
  {
   "cell_type": "code",
   "execution_count": 1,
   "metadata": {
    "ExecuteTime": {
     "end_time": "2017-12-05T07:51:18.325831Z",
     "start_time": "2017-12-05T07:51:18.299971Z"
    },
    "collapsed": true
   },
   "outputs": [],
   "source": [
    "%reload_ext autoreload\n",
    "%autoreload 2"
   ]
  },
  {
   "cell_type": "code",
   "execution_count": 2,
   "metadata": {
    "ExecuteTime": {
     "end_time": "2017-12-05T07:51:19.131990Z",
     "start_time": "2017-12-05T07:51:18.392274Z"
    }
   },
   "outputs": [
    {
     "data": {
      "text/plain": [
       "(21, 21)"
      ]
     },
     "execution_count": 2,
     "metadata": {},
     "output_type": "execute_result"
    }
   ],
   "source": [
    "import sys\n",
    "sys.path.append('/home/test/sherlock/')\n",
    "\n",
    "import os\n",
    "import torch\n",
    "import numpy as np\n",
    "from torch.autograd import Variable\n",
    "from torch import nn\n",
    "import torch.nn.functional as F\n",
    "from torch.utils.data import DataLoader, Dataset\n",
    "from PIL import Image\n",
    "from mxtorch import transforms as tfs\n",
    "from datetime import datetime\n",
    "\n",
    "import matplotlib.pyplot as plt\n",
    "%matplotlib inline\n",
    "\n",
    "voc_root = './data/VOCdevkit/VOC2012'\n",
    "\n",
    "def read_images(root=voc_root, train=True):\n",
    "    txt_fname = root + '/ImageSets/Segmentation/' + ('train.txt' if train else 'val.txt')\n",
    "    with open(txt_fname, 'r') as f:\n",
    "        images = f.read().split()\n",
    "    data = [os.path.join(root, 'JPEGImages', i+'.jpg') for i in images]\n",
    "    label = [os.path.join(root, 'SegmentationClass', i+'.png') for i in images]\n",
    "    return data, label\n",
    "\n",
    "def rand_crop(data, label, height, width):\n",
    "    '''\n",
    "    data is PIL.Image object\n",
    "    label is PIL.Image object\n",
    "    '''\n",
    "    data, rect = tfs.RandomCrop((height, width))(data)\n",
    "    label = tfs.FixedCrop(*rect)(label)\n",
    "    return data, label\n",
    "\n",
    "classes = ['background','aeroplane','bicycle','bird','boat',\n",
    "           'bottle','bus','car','cat','chair','cow','diningtable',\n",
    "           'dog','horse','motorbike','person','potted plant',\n",
    "           'sheep','sofa','train','tv/monitor']\n",
    "# RGB color for each class\n",
    "colormap = [[0,0,0],[128,0,0],[0,128,0], [128,128,0], [0,0,128],\n",
    "            [128,0,128],[0,128,128],[128,128,128],[64,0,0],[192,0,0],\n",
    "            [64,128,0],[192,128,0],[64,0,128],[192,0,128],\n",
    "            [64,128,128],[192,128,128],[0,64,0],[128,64,0],\n",
    "            [0,192,0],[128,192,0],[0,64,128]]\n",
    "\n",
    "len(classes), len(colormap)"
   ]
  },
  {
   "cell_type": "code",
   "execution_count": 3,
   "metadata": {
    "ExecuteTime": {
     "end_time": "2017-12-05T07:51:19.243418Z",
     "start_time": "2017-12-05T07:51:19.134259Z"
    },
    "collapsed": true
   },
   "outputs": [],
   "source": [
    "def img_transforms(im, label, crop_size):\n",
    "    im, label = rand_crop(im, label, *crop_size)\n",
    "    im_tfs = tfs.Compose([\n",
    "        tfs.ToTensor(),\n",
    "        tfs.Normalize([0.485, 0.456, 0.406], [0.229, 0.224, 0.225])\n",
    "    ])\n",
    "    \n",
    "    im = im_tfs(im)\n",
    "    label = np.array(label, dtype='int64')\n",
    "    label = label * (label < 255)\n",
    "    label = torch.from_numpy(label).squeeze(0)\n",
    "    return im, label\n",
    "\n",
    "class VOCSegDataset(Dataset):\n",
    "    '''\n",
    "    voc dataset\n",
    "    '''\n",
    "    def __init__(self, train, crop_size, transforms):\n",
    "        self.crop_size = crop_size\n",
    "        self.transforms = transforms\n",
    "        data_list, label_list = read_images(train=train)\n",
    "        self.data_list = self._filter(data_list)\n",
    "        self.label_list = self._filter(label_list)\n",
    "        print('Read ' + str(len(self.data_list)) + ' images')\n",
    "        \n",
    "    def _filter(self, images):\n",
    "        return [im for im in images if (Image.open(im).size[1] >= self.crop_size[0] and \n",
    "                                        Image.open(im).size[0] >= self.crop_size[1])]\n",
    "        \n",
    "    def __getitem__(self, idx):\n",
    "        img = self.data_list[idx]\n",
    "        label = self.label_list[idx]\n",
    "        img = Image.open(img)\n",
    "        label = Image.open(label)\n",
    "        img, label = self.transforms(img, label, self.crop_size)\n",
    "        return img, label\n",
    "    \n",
    "    def __len__(self):\n",
    "        return len(self.data_list)"
   ]
  },
  {
   "cell_type": "code",
   "execution_count": 4,
   "metadata": {
    "ExecuteTime": {
     "end_time": "2017-12-05T07:51:21.229865Z",
     "start_time": "2017-12-05T07:51:19.248888Z"
    }
   },
   "outputs": [
    {
     "name": "stdout",
     "output_type": "stream",
     "text": [
      "Read 1114 images\n",
      "Read 1078 images\n"
     ]
    }
   ],
   "source": [
    "input_shape = (320, 480)\n",
    "voc_train = VOCSegDataset(True, input_shape, img_transforms)\n",
    "voc_test = VOCSegDataset(False, input_shape, img_transforms)\n",
    "\n",
    "train_data = DataLoader(voc_train, 64, shuffle=True, num_workers=2)\n",
    "valid_data = DataLoader(voc_test, 64, num_workers=2)"
   ]
  },
  {
   "cell_type": "code",
   "execution_count": 5,
   "metadata": {
    "ExecuteTime": {
     "end_time": "2017-12-05T07:51:22.755341Z",
     "start_time": "2017-12-05T07:51:21.234859Z"
    },
    "collapsed": true
   },
   "outputs": [],
   "source": [
    "from mxtorch import layer\n",
    "from mxtorch import model_zoo"
   ]
  },
  {
   "cell_type": "code",
   "execution_count": 6,
   "metadata": {
    "ExecuteTime": {
     "end_time": "2017-12-05T07:51:23.987506Z",
     "start_time": "2017-12-05T07:51:22.757704Z"
    },
    "collapsed": true
   },
   "outputs": [],
   "source": [
    "pretrained_net = model_zoo.resnet18(pretrained=True)\n",
    "\n",
    "num_classes = len(classes)\n",
    "\n",
    "net = nn.Sequential(*list(pretrained_net.children())[:-2])\n",
    "net.add_module('fcn_fc', layer.conv2d(512, num_classes, 1))\n",
    "net.add_module('fcn_transpose', nn.ConvTranspose2d(num_classes, num_classes, 64, stride=32, padding=16))"
   ]
  },
  {
   "cell_type": "code",
   "execution_count": 7,
   "metadata": {
    "ExecuteTime": {
     "end_time": "2017-12-05T07:51:24.022827Z",
     "start_time": "2017-12-05T07:51:23.990251Z"
    },
    "collapsed": true
   },
   "outputs": [],
   "source": [
    "def bilinear_kernel(in_channels, out_channels, kernel_size):\n",
    "    '''\n",
    "    return a bilinear filter tensor\n",
    "    '''\n",
    "    factor = (kernel_size + 1) // 2\n",
    "    if kernel_size % 2 == 1:\n",
    "        center = factor - 1\n",
    "    else:\n",
    "        center = factor - 0.5\n",
    "    og = np.ogrid[:kernel_size, :kernel_size]\n",
    "    filt = (1 - abs(og[0] - center) / factor) * (1 - abs(og[1] - center) / factor)\n",
    "    weight = np.zeros((in_channels, out_channels, kernel_size, kernel_size), dtype='float32')\n",
    "    weight[range(in_channels), range(out_channels), :, :] = filt\n",
    "    return torch.from_numpy(weight)"
   ]
  },
  {
   "cell_type": "code",
   "execution_count": 8,
   "metadata": {
    "ExecuteTime": {
     "end_time": "2017-12-05T07:51:24.059213Z",
     "start_time": "2017-12-05T07:51:24.027733Z"
    },
    "collapsed": true
   },
   "outputs": [],
   "source": [
    "# initialize convtranspose to bilinear kernel\n",
    "in_channels, out_channels, kernel_size, _ = net[-1].weight.size()\n",
    "net[-1].weight.data = bilinear_kernel(in_channels, out_channels, kernel_size)"
   ]
  },
  {
   "cell_type": "code",
   "execution_count": 9,
   "metadata": {
    "ExecuteTime": {
     "end_time": "2017-12-05T07:51:28.581429Z",
     "start_time": "2017-12-05T07:51:24.063042Z"
    },
    "collapsed": true
   },
   "outputs": [],
   "source": [
    "from mxtorch.trainer import ScheduledOptim\n",
    "\n",
    "criterion = nn.NLLLoss2d()\n",
    "basic_optim = torch.optim.SGD(net.parameters(), 1e-1, weight_decay=1e-3)\n",
    "optimizer = ScheduledOptim(basic_optim)\n",
    "\n",
    "net = net.cuda()"
   ]
  },
  {
   "cell_type": "code",
   "execution_count": 10,
   "metadata": {
    "ExecuteTime": {
     "end_time": "2017-12-05T08:11:50.300839Z",
     "start_time": "2017-12-05T07:51:28.587953Z"
    }
   },
   "outputs": [
    {
     "name": "stdout",
     "output_type": "stream",
     "text": [
      "Epoch: 0, trian loss: 1.84624, valid loss: 0.81904 Time: 0:0:25\n",
      "Epoch: 1, trian loss: 0.68792, valid loss: 0.59224 Time: 0:0:24\n",
      "Epoch: 2, trian loss: 0.50861, valid loss: 0.56705 Time: 0:0:24\n",
      "Epoch: 3, trian loss: 0.42660, valid loss: 0.50262 Time: 0:0:25\n",
      "Epoch: 4, trian loss: 0.38893, valid loss: 0.55783 Time: 0:0:24\n",
      "Epoch: 5, trian loss: 0.36518, valid loss: 0.49892 Time: 0:0:24\n",
      "Epoch: 6, trian loss: 0.32801, valid loss: 0.57068 Time: 0:0:24\n",
      "Epoch: 7, trian loss: 0.33078, valid loss: 0.53845 Time: 0:0:24\n",
      "Epoch: 8, trian loss: 0.28684, valid loss: 0.52478 Time: 0:0:24\n",
      "Epoch: 9, trian loss: 0.27187, valid loss: 0.46261 Time: 0:0:24\n",
      "Epoch: 10, trian loss: 0.25342, valid loss: 0.50078 Time: 0:0:24\n",
      "Epoch: 11, trian loss: 0.24813, valid loss: 0.45535 Time: 0:0:24\n",
      "Epoch: 12, trian loss: 0.22688, valid loss: 0.48956 Time: 0:0:24\n",
      "Epoch: 13, trian loss: 0.21678, valid loss: 0.46585 Time: 0:0:24\n",
      "Epoch: 14, trian loss: 0.20821, valid loss: 0.52093 Time: 0:0:24\n",
      "Epoch: 15, trian loss: 0.20788, valid loss: 0.48265 Time: 0:0:24\n",
      "Epoch: 16, trian loss: 0.19911, valid loss: 0.47045 Time: 0:0:23\n",
      "Epoch: 17, trian loss: 0.19497, valid loss: 0.52106 Time: 0:0:24\n",
      "Epoch: 18, trian loss: 0.18721, valid loss: 0.49745 Time: 0:0:24\n",
      "Epoch: 19, trian loss: 0.17986, valid loss: 0.49069 Time: 0:0:24\n",
      "Epoch: 20, trian loss: 0.18513, valid loss: 0.45572 Time: 0:0:24\n",
      "Epoch: 21, trian loss: 0.17599, valid loss: 0.49652 Time: 0:0:24\n",
      "Epoch: 22, trian loss: 0.17365, valid loss: 0.48966 Time: 0:0:24\n",
      "Epoch: 23, trian loss: 0.16970, valid loss: 0.49937 Time: 0:0:24\n",
      "Epoch: 24, trian loss: 0.17062, valid loss: 0.47388 Time: 0:0:25\n",
      "Epoch: 25, trian loss: 0.16146, valid loss: 0.47719 Time: 0:0:24\n",
      "Epoch: 26, trian loss: 0.16234, valid loss: 0.47194 Time: 0:0:24\n",
      "Epoch: 27, trian loss: 0.15838, valid loss: 0.48063 Time: 0:0:24\n",
      "Epoch: 28, trian loss: 0.15695, valid loss: 0.49773 Time: 0:0:24\n",
      "Epoch: 29, trian loss: 0.15685, valid loss: 0.48434 Time: 0:0:24\n",
      "Epoch: 30, trian loss: 0.14927, valid loss: 0.47953 Time: 0:0:23\n",
      "Epoch: 31, trian loss: 0.14831, valid loss: 0.47614 Time: 0:0:24\n",
      "Epoch: 32, trian loss: 0.14696, valid loss: 0.47504 Time: 0:0:24\n",
      "Epoch: 33, trian loss: 0.14792, valid loss: 0.47796 Time: 0:0:24\n",
      "Epoch: 34, trian loss: 0.14610, valid loss: 0.47036 Time: 0:0:24\n",
      "Epoch: 35, trian loss: 0.14633, valid loss: 0.47523 Time: 0:0:24\n",
      "Epoch: 36, trian loss: 0.14775, valid loss: 0.46711 Time: 0:0:24\n",
      "Epoch: 37, trian loss: 0.14691, valid loss: 0.47597 Time: 0:0:24\n",
      "Epoch: 38, trian loss: 0.14716, valid loss: 0.47488 Time: 0:0:24\n",
      "Epoch: 39, trian loss: 0.14475, valid loss: 0.47384 Time: 0:0:24\n",
      "Epoch: 40, trian loss: 0.14627, valid loss: 0.47229 Time: 0:0:24\n",
      "Epoch: 41, trian loss: 0.14581, valid loss: 0.47141 Time: 0:0:24\n",
      "Epoch: 42, trian loss: 0.14587, valid loss: 0.47362 Time: 0:0:23\n",
      "Epoch: 43, trian loss: 0.14661, valid loss: 0.47474 Time: 0:0:24\n",
      "Epoch: 44, trian loss: 0.14681, valid loss: 0.47890 Time: 0:0:24\n",
      "Epoch: 45, trian loss: 0.14457, valid loss: 0.47328 Time: 0:0:24\n",
      "Epoch: 46, trian loss: 0.14629, valid loss: 0.47609 Time: 0:0:24\n",
      "Epoch: 47, trian loss: 0.14530, valid loss: 0.47350 Time: 0:0:24\n",
      "Epoch: 48, trian loss: 0.14327, valid loss: 0.47544 Time: 0:0:24\n",
      "Epoch: 49, trian loss: 0.14559, valid loss: 0.47505 Time: 0:0:24\n"
     ]
    }
   ],
   "source": [
    "for e in range(50):\n",
    "    if e > 0 and e % 30 == 0:\n",
    "        optimizer.set_learning_rate(1e-2)\n",
    "    running_loss = 0\n",
    "    total = 0\n",
    "    prev_time = datetime.now()\n",
    "    net = net.train()\n",
    "    for data in train_data:\n",
    "        im = Variable(data[0].cuda())\n",
    "        label = Variable(data[1].cuda())\n",
    "        # forward\n",
    "        out = net(im)\n",
    "        out = F.log_softmax(out) # (b, n, h, w)\n",
    "        loss = criterion(out, label)\n",
    "        # backward\n",
    "        optimizer.zero_grad()\n",
    "        loss.backward()\n",
    "        optimizer.step()\n",
    "        running_loss += loss.data[0] * im.size(0)\n",
    "        total += im.size(0)\n",
    "    net = net.eval()\n",
    "    eval_loss = 0\n",
    "    eval_total = 0\n",
    "    for data in valid_data:\n",
    "        im = Variable(data[0].cuda(), volatile=True)\n",
    "        label = Variable(data[1].cuda(), volatile=True)\n",
    "        # forward\n",
    "        out = net(im)\n",
    "        out = F.log_softmax(out)\n",
    "        loss = criterion(out, label)\n",
    "        eval_loss += loss.data[0] * im.size(0)\n",
    "        eval_total += im.size(0)\n",
    "    cur_time = datetime.now()\n",
    "    h, remainder = divmod((cur_time - prev_time).seconds, 3600)\n",
    "    m, s = divmod(remainder, 60)\n",
    "    epoch_str = 'Epoch: {}, trian loss: {:.5f}, valid loss: {:.5f} '.format(e, running_loss / total, eval_loss / eval_total)\n",
    "    time_str = 'Time: {:.0f}:{:.0f}:{:.0f}'.format(h, m, s)\n",
    "    print(epoch_str + time_str)"
   ]
  },
  {
   "cell_type": "code",
   "execution_count": 14,
   "metadata": {
    "ExecuteTime": {
     "end_time": "2017-12-05T08:18:55.030249Z",
     "start_time": "2017-12-05T08:18:55.012863Z"
    },
    "collapsed": true
   },
   "outputs": [],
   "source": [
    "cm = np.array(colormap).astype('uint8')"
   ]
  },
  {
   "cell_type": "code",
   "execution_count": 11,
   "metadata": {
    "ExecuteTime": {
     "end_time": "2017-12-05T08:18:42.280290Z",
     "start_time": "2017-12-05T08:18:42.260853Z"
    }
   },
   "outputs": [],
   "source": [
    "net = net.eval()"
   ]
  },
  {
   "cell_type": "code",
   "execution_count": 42,
   "metadata": {
    "ExecuteTime": {
     "end_time": "2017-12-05T08:19:59.797660Z",
     "start_time": "2017-12-05T08:19:59.748508Z"
    }
   },
   "outputs": [],
   "source": [
    "a, b = voc_test[4]"
   ]
  },
  {
   "cell_type": "code",
   "execution_count": 43,
   "metadata": {
    "ExecuteTime": {
     "end_time": "2017-12-05T08:20:00.051390Z",
     "start_time": "2017-12-05T08:19:59.870501Z"
    }
   },
   "outputs": [
    {
     "data": {
      "text/plain": [
       "<matplotlib.image.AxesImage at 0x7f216c291390>"
      ]
     },
     "execution_count": 43,
     "metadata": {},
     "output_type": "execute_result"
    },
    {
     "data": {
      "image/png": "[encoded data removed]",
      "text/plain": [
       "<matplotlib.figure.Figure at 0x7f216c30c550>"
      ]
     },
     "metadata": {},
     "output_type": "display_data"
    }
   ],
   "source": [
    "plt.imshow(cm[b.numpy()])"
   ]
  },
  {
   "cell_type": "code",
   "execution_count": 44,
   "metadata": {
    "ExecuteTime": {
     "end_time": "2017-12-05T08:20:00.076624Z",
     "start_time": "2017-12-05T08:20:00.053507Z"
    },
    "collapsed": true
   },
   "outputs": [],
   "source": [
    "d_test = net(Variable(a.unsqueeze(0).cuda()))"
   ]
  },
  {
   "cell_type": "code",
   "execution_count": 45,
   "metadata": {
    "ExecuteTime": {
     "end_time": "2017-12-05T08:20:00.442436Z",
     "start_time": "2017-12-05T08:20:00.425749Z"
    },
    "collapsed": true
   },
   "outputs": [],
   "source": [
    "aa = d_test.max(1)[1].squeeze(0)"
   ]
  },
  {
   "cell_type": "code",
   "execution_count": 46,
   "metadata": {
    "ExecuteTime": {
     "end_time": "2017-12-05T08:20:00.758750Z",
     "start_time": "2017-12-05T08:20:00.744053Z"
    },
    "collapsed": true
   },
   "outputs": [],
   "source": [
    "k = aa.cpu().data.numpy()"
   ]
  },
  {
   "cell_type": "code",
   "execution_count": 47,
   "metadata": {
    "ExecuteTime": {
     "end_time": "2017-12-05T08:20:01.055347Z",
     "start_time": "2017-12-05T08:20:01.029360Z"
    },
    "collapsed": true
   },
   "outputs": [],
   "source": [
    "aa = cm[k]"
   ]
  },
  {
   "cell_type": "code",
   "execution_count": 48,
   "metadata": {
    "ExecuteTime": {
     "end_time": "2017-12-05T08:20:01.519030Z",
     "start_time": "2017-12-05T08:20:01.351053Z"
    }
   },
   "outputs": [
    {
     "data": {
      "text/plain": [
       "<matplotlib.image.AxesImage at 0x7f216c266d68>"
      ]
     },
     "execution_count": 48,
     "metadata": {},
     "output_type": "execute_result"
    },
    {
     "data": {
      "image/png": "[encoded data removed]",
      "text/plain": [
       "<matplotlib.figure.Figure at 0x7f216c2abf28>"
      ]
     },
     "metadata": {},
     "output_type": "display_data"
    }
   ],
   "source": [
    "plt.imshow(aa)"
   ]
  },
  {
   "cell_type": "code",
   "execution_count": 49,
   "metadata": {
    "ExecuteTime": {
     "end_time": "2017-12-05T08:20:25.262309Z",
     "start_time": "2017-12-05T08:20:25.164575Z"
    },
    "collapsed": true
   },
   "outputs": [],
   "source": [
    "torch.save(net.state_dict(), 'simplet_resnet.pth')"
   ]
  },
  {
   "cell_type": "code",
   "execution_count": 50,
   "metadata": {
    "ExecuteTime": {
     "end_time": "2017-12-05T08:20:37.580025Z",
     "start_time": "2017-12-05T08:20:37.463170Z"
    },
    "collapsed": true
   },
   "outputs": [],
   "source": [
    "torch.save(net, 'test_net.pth')"
   ]
  }
 ],
 "metadata": {
  "kernelspec": {
   "display_name": "Python 3",
   "language": "python",
   "name": "python3"
  },
  "language_info": {
   "codemirror_mode": {
    "name": "ipython",
    "version": 3
   },
   "file_extension": ".py",
   "mimetype": "text/x-python",
   "name": "python",
   "nbconvert_exporter": "python",
   "pygments_lexer": "ipython3",
   "version": "3.6.2"
  }
 },
 "nbformat": 4,
 "nbformat_minor": 2
}
