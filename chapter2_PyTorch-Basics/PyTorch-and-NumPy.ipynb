{
 "cells": [
  {
   "cell_type": "markdown",
   "metadata": {},
   "source": [
    "# PyTorch Basic\n",
    "In this notebook, we will introduce much pytorch basic knowledge which you need to get into deep learning world."
   ]
  },
  {
   "cell_type": "markdown",
   "metadata": {},
   "source": [
    "## Use PyTorch as NumPy\n",
    "PyTorch is a Tensors and Dynamic neural networks in Python with strong GPU acceleration Library. So we can use it as numpy but it is faster than numpy."
   ]
  },
  {
   "cell_type": "code",
   "execution_count": 1,
   "metadata": {
    "collapsed": true
   },
   "outputs": [],
   "source": [
    "import torch\n",
    "import numpy as np"
   ]
  },
  {
   "cell_type": "code",
   "execution_count": 4,
   "metadata": {
    "collapsed": false
   },
   "outputs": [],
   "source": [
    "# create a numpy ndarray\n",
    "numpy_tensor = np.random.randn(10, 20)"
   ]
  },
  {
   "cell_type": "markdown",
   "metadata": {},
   "source": [
    "we can convert numpy ndarray to pytorch Tensor in two ways"
   ]
  },
  {
   "cell_type": "code",
   "execution_count": null,
   "metadata": {
    "collapsed": true
   },
   "outputs": [],
   "source": [
    "import torch\n",
    "from torch import nn\n",
    "import numpy as np\n",
    "from torch.autograd import Variable\n",
    "from torch.utils.data import Dataset, DataLoader\n",
    "from torchvision.datasets import ImageFolder\n",
    "import pandas as pd"
   ]
  },
  {
   "cell_type": "code",
   "execution_count": null,
   "metadata": {
    "collapsed": true
   },
   "outputs": [],
   "source": [
    "# =============================Tensor================================\n",
    "# Define 3x2 matrix with given values\n",
    "a = torch.Tensor([[2, 3], [4, 8], [7, 9]])\n",
    "print('a is: {}'.format(a))\n",
    "print('a size is {}'.format(a.size()))  # a.size() = 3, 2\n",
    "\n",
    "b = torch.LongTensor([[2, 3], [4, 8], [7, 9]])\n",
    "print('b is : {}'.format(b))\n",
    "\n",
    "c = torch.zeros((3, 2))\n",
    "print('zero tensor: {}'.format(c))\n",
    "\n",
    "d = torch.randn((3, 2))\n",
    "print('normal randon is : {}'.format(d))\n",
    "\n",
    "a[0, 1] = 100\n",
    "print('changed a is: {}'.format(a))\n",
    "\n",
    "numpy_b = b.numpy()\n",
    "print('conver to numpy is \\n {}'.format(numpy_b))\n",
    "\n",
    "e = np.array([[2, 3], [4, 5]])\n",
    "torch_e = torch.from_numpy(e)\n",
    "print('from numpy to torch.Tensor is {}'.format(torch_e))\n",
    "f_torch_e = torch_e.float()\n",
    "print('change data type to float tensor: {}'.format(f_torch_e))\n",
    "\n",
    "if torch.cuda.is_available():\n",
    "    a_cuda = a.cuda()\n",
    "    print(a_cuda)\n",
    "\n",
    "# =============================Variable===================================\n",
    "\n",
    "# Create Variable\n",
    "x = Variable(torch.Tensor([1]), requires_grad=True)\n",
    "w = Variable(torch.Tensor([2]), requires_grad=True)\n",
    "b = Variable(torch.Tensor([3]), requires_grad=True)\n",
    "\n",
    "# Build a computational graph.\n",
    "y = w * x + b    # y = 2 * x + 3\n",
    "\n",
    "# Compute gradients\n",
    "y.backward()  # same as y.backward(torch.FloatTensor([1]))\n",
    "# Print out the gradients.\n",
    "print(x.grad)    # x.grad = 2\n",
    "print(w.grad)    # w.grad = 1\n",
    "print(b.grad)    # b.grad = 1\n",
    "\n",
    "x = torch.randn(3)\n",
    "x = Variable(x, requires_grad=True)\n",
    "\n",
    "y = x * 2\n",
    "print(y)\n",
    "\n",
    "y.backward(torch.FloatTensor([1, 0.1, 0.01]))\n",
    "print(x.grad)\n",
    "\n",
    "\n",
    "# ==============================nn.Module=================================\n",
    "class net_name(nn.Module):\n",
    "    def __init__(self, other_arguments):\n",
    "        super(net_name, self).__init__()\n",
    "        self.conv1 = nn.Conv2d(in_channels, out_channels, kernel_size)\n",
    "        # other network layer\n",
    "\n",
    "    def forward(self, x):\n",
    "        x = self.conv1(x)\n",
    "        return x\n",
    "\n",
    "# ============================Dataset====================================\n",
    "\n",
    "\n",
    "class myDataset(Dataset):\n",
    "    def __init__(self, csv_file, txt_file, root_dir, other_file):\n",
    "        self.csv_data = pd.read_csv(csv_file)\n",
    "        with open(txt_file, 'r') as f:\n",
    "            data_list = f.readlines()\n",
    "        self.txt_data = data_list\n",
    "        self.root_dir = root_dir\n",
    "\n",
    "    def __len__(self):\n",
    "        return len(self.csv_data)\n",
    "\n",
    "    def __getitem__(self, idx):\n",
    "        data = (self.csv_data[idx], self.txt_data[idx])\n",
    "        return data\n",
    "\n",
    "\n",
    "dataiter = DataLoader(myDataset, batch_size=32, shuffle=True,\n",
    "                      collate_fn=default_collate)\n",
    "\n",
    "dset = ImageFolder(root='root_path', transform=None,\n",
    "                   loader=default_loader)\n"
   ]
  }
 ],
 "metadata": {
  "kernelspec": {
   "display_name": "mx",
   "language": "python",
   "name": "mx"
  },
  "language_info": {
   "codemirror_mode": {
    "name": "ipython",
    "version": 3
   },
   "file_extension": ".py",
   "mimetype": "text/x-python",
   "name": "python",
   "nbconvert_exporter": "python",
   "pygments_lexer": "ipython3",
   "version": "3.6.0"
  }
 },
 "nbformat": 4,
 "nbformat_minor": 2
}
