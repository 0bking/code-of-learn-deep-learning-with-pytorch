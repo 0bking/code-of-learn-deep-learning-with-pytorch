{
 "cells": [
  {
   "cell_type": "code",
   "execution_count": 1,
   "metadata": {
    "collapsed": true
   },
   "outputs": [],
   "source": [
    "import torch\n",
    "from torch import nn\n",
    "from torch.autograd import Variable"
   ]
  },
  {
   "cell_type": "markdown",
   "metadata": {},
   "source": [
    "### This is basic RNN network definition"
   ]
  },
  {
   "cell_type": "code",
   "execution_count": 2,
   "metadata": {
    "collapsed": true
   },
   "outputs": [],
   "source": [
    "basic_rnn = nn.RNN(input_size=20, hidden_size=50, num_layers=2)"
   ]
  },
  {
   "cell_type": "markdown",
   "metadata": {},
   "source": [
    "### get first layer $w_{ih}$ weight"
   ]
  },
  {
   "cell_type": "code",
   "execution_count": 11,
   "metadata": {
    "collapsed": false
   },
   "outputs": [
    {
     "data": {
      "text/plain": [
       "Parameter containing:\n",
       "-4.4217e-02 -1.1636e-02 -1.0950e-01  ...   3.0889e-02 -5.3554e-02  1.3470e-02\n",
       " 2.0199e-02  2.6346e-02 -1.2236e-01  ...   3.0369e-02  3.1875e-02  7.5414e-02\n",
       "-7.3592e-02 -1.0765e-01 -6.4064e-02  ...  -1.4163e-02 -2.7480e-02 -7.8861e-02\n",
       "                ...                   ⋱                   ...                \n",
       " 1.3970e-01  5.2258e-02 -1.5994e-02  ...   7.2413e-02 -1.1146e-01 -4.2005e-02\n",
       " 1.9304e-02  1.2416e-01  4.3513e-02  ...  -6.9903e-02 -1.9987e-02  9.1069e-02\n",
       "-1.2357e-01  1.3164e-01  4.9964e-02  ...  -1.2016e-01  1.1797e-01 -7.6756e-02\n",
       "[torch.FloatTensor of size 50x20]"
      ]
     },
     "execution_count": 11,
     "metadata": {},
     "output_type": "execute_result"
    }
   ],
   "source": [
    "basic_rnn.weight_ih_l0"
   ]
  },
  {
   "cell_type": "markdown",
   "metadata": {},
   "source": [
    "### get first layer $w_{hh}$ weight"
   ]
  },
  {
   "cell_type": "code",
   "execution_count": 15,
   "metadata": {
    "collapsed": false
   },
   "outputs": [
    {
     "data": {
      "text/plain": [
       "Parameter containing:\n",
       " 0.0022  0.0818  0.0834  ...  -0.1024 -0.0085 -0.0421\n",
       "-0.0973  0.1049 -0.0598  ...  -0.0427  0.0391 -0.0953\n",
       "-0.0930 -0.0776  0.1303  ...   0.0230 -0.1142  0.1007\n",
       "          ...             ⋱             ...          \n",
       "-0.0447 -0.1351 -0.0234  ...   0.0948  0.0350  0.0472\n",
       " 0.0477  0.1165 -0.0886  ...  -0.0022  0.1095 -0.0051\n",
       "-0.0308  0.0166  0.0746  ...  -0.0695  0.0498  0.0692\n",
       "[torch.FloatTensor of size 50x50]"
      ]
     },
     "execution_count": 15,
     "metadata": {},
     "output_type": "execute_result"
    }
   ],
   "source": [
    "basic_rnn.weight_hh_l0"
   ]
  },
  {
   "cell_type": "markdown",
   "metadata": {},
   "source": [
    "### get first layer $b_{ih}$ bias"
   ]
  },
  {
   "cell_type": "code",
   "execution_count": 16,
   "metadata": {
    "collapsed": false,
    "scrolled": true
   },
   "outputs": [
    {
     "data": {
      "text/plain": [
       "Parameter containing:\n",
       "-0.1202\n",
       "-0.0048\n",
       "-0.1250\n",
       "-0.0693\n",
       "-0.1308\n",
       "-0.1012\n",
       "-0.1178\n",
       "-0.0295\n",
       "-0.1199\n",
       "-0.0158\n",
       "-0.0685\n",
       "-0.0488\n",
       "-0.0250\n",
       " 0.0746\n",
       "-0.0528\n",
       "-0.0815\n",
       " 0.0856\n",
       "-0.0298\n",
       "-0.1252\n",
       "-0.0927\n",
       "-0.0828\n",
       "-0.0874\n",
       "-0.0054\n",
       "-0.0830\n",
       "-0.0754\n",
       "-0.0407\n",
       " 0.0857\n",
       "-0.1328\n",
       " 0.1402\n",
       "-0.0688\n",
       "-0.0966\n",
       "-0.1279\n",
       "-0.1050\n",
       "-0.1330\n",
       "-0.0941\n",
       "-0.0059\n",
       "-0.1115\n",
       " 0.0742\n",
       "-0.0698\n",
       "-0.0611\n",
       " 0.1103\n",
       "-0.1305\n",
       " 0.0884\n",
       " 0.1018\n",
       "-0.0922\n",
       "-0.0763\n",
       "-0.1081\n",
       "-0.1194\n",
       " 0.0293\n",
       "-0.0630\n",
       "[torch.FloatTensor of size 50]"
      ]
     },
     "execution_count": 16,
     "metadata": {},
     "output_type": "execute_result"
    }
   ],
   "source": [
    "basic_rnn.bias_hh_l0"
   ]
  },
  {
   "cell_type": "markdown",
   "metadata": {},
   "source": [
    "### get toy input to network"
   ]
  },
  {
   "cell_type": "code",
   "execution_count": 22,
   "metadata": {
    "collapsed": true
   },
   "outputs": [],
   "source": [
    "toy_input = Variable(torch.randn(100, 32, 20))\n",
    "h_0 = Variable(torch.randn(2, 32, 50))  # layer * direction, batch, hidden_size"
   ]
  },
  {
   "cell_type": "code",
   "execution_count": 24,
   "metadata": {
    "collapsed": false
   },
   "outputs": [],
   "source": [
    "toy_output, h_n = basic_rnn(toy_input, h_0)"
   ]
  },
  {
   "cell_type": "code",
   "execution_count": 25,
   "metadata": {
    "collapsed": false
   },
   "outputs": [
    {
     "data": {
      "text/plain": [
       "torch.Size([100, 32, 50])"
      ]
     },
     "execution_count": 25,
     "metadata": {},
     "output_type": "execute_result"
    }
   ],
   "source": [
    "toy_output.size()  # seq, batch, hidden_size"
   ]
  },
  {
   "cell_type": "code",
   "execution_count": 26,
   "metadata": {
    "collapsed": false
   },
   "outputs": [
    {
     "data": {
      "text/plain": [
       "torch.Size([2, 32, 50])"
      ]
     },
     "execution_count": 26,
     "metadata": {},
     "output_type": "execute_result"
    }
   ],
   "source": [
    "h_n.size()  # layer * direction, batch, hidden_size"
   ]
  },
  {
   "cell_type": "markdown",
   "metadata": {},
   "source": [
    "### LSTM"
   ]
  },
  {
   "cell_type": "code",
   "execution_count": 32,
   "metadata": {
    "collapsed": false
   },
   "outputs": [],
   "source": [
    "lstm = nn.LSTM(input_size=20, hidden_size=50, num_layers=2)"
   ]
  },
  {
   "cell_type": "code",
   "execution_count": 31,
   "metadata": {
    "collapsed": false
   },
   "outputs": [
    {
     "data": {
      "text/plain": [
       "Parameter containing:\n",
       " 0.0438  0.0636 -0.1081  ...  -0.1173  0.1311 -0.0928\n",
       "-0.0769  0.0477 -0.1354  ...   0.0995  0.0037 -0.0498\n",
       " 0.0960 -0.0333  0.0674  ...   0.0891 -0.0534 -0.0954\n",
       "          ...             ⋱             ...          \n",
       " 0.0957 -0.0410  0.1212  ...   0.0975  0.1042 -0.1136\n",
       " 0.0578 -0.0604 -0.1190  ...  -0.1373  0.0272  0.1093\n",
       " 0.0593 -0.1397 -0.1055  ...   0.1406 -0.0876  0.0023\n",
       "[torch.FloatTensor of size 200x20]"
      ]
     },
     "execution_count": 31,
     "metadata": {},
     "output_type": "execute_result"
    }
   ],
   "source": [
    "lstm.weight_ih_l0"
   ]
  },
  {
   "cell_type": "code",
   "execution_count": 33,
   "metadata": {
    "collapsed": true
   },
   "outputs": [],
   "source": [
    "lstm_out, (h_n, c_n) = lstm(toy_input)"
   ]
  },
  {
   "cell_type": "code",
   "execution_count": 34,
   "metadata": {
    "collapsed": false
   },
   "outputs": [
    {
     "data": {
      "text/plain": [
       "torch.Size([100, 32, 50])"
      ]
     },
     "execution_count": 34,
     "metadata": {},
     "output_type": "execute_result"
    }
   ],
   "source": [
    "lstm_out.size()"
   ]
  },
  {
   "cell_type": "code",
   "execution_count": 35,
   "metadata": {
    "collapsed": false
   },
   "outputs": [
    {
     "data": {
      "text/plain": [
       "torch.Size([2, 32, 50])"
      ]
     },
     "execution_count": 35,
     "metadata": {},
     "output_type": "execute_result"
    }
   ],
   "source": [
    "h_n.size()"
   ]
  },
  {
   "cell_type": "code",
   "execution_count": 36,
   "metadata": {
    "collapsed": false
   },
   "outputs": [
    {
     "data": {
      "text/plain": [
       "torch.Size([2, 32, 50])"
      ]
     },
     "execution_count": 36,
     "metadata": {},
     "output_type": "execute_result"
    }
   ],
   "source": [
    "c_n.size()"
   ]
  }
 ],
 "metadata": {
  "kernelspec": {
   "display_name": "pytorch",
   "language": "python",
   "name": "pytorch"
  },
  "language_info": {
   "codemirror_mode": {
    "name": "ipython",
    "version": 3
   },
   "file_extension": ".py",
   "mimetype": "text/x-python",
   "name": "python",
   "nbconvert_exporter": "python",
   "pygments_lexer": "ipython3",
   "version": "3.6.0"
  }
 },
 "nbformat": 4,
 "nbformat_minor": 2
}
